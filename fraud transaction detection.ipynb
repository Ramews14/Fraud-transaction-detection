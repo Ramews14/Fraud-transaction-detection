{
 "cells": [
  {
   "cell_type": "code",
   "execution_count": 4,
   "id": "d54a8d09",
   "metadata": {},
   "outputs": [],
   "source": [
    "import pandas as pd"
   ]
  },
  {
   "cell_type": "code",
   "execution_count": 5,
   "id": "38421668",
   "metadata": {},
   "outputs": [],
   "source": [
    "data = pd.read_csv(r'C:\\Users\\91638\\Downloads\\Synthetic_Financial_datasets_log.csv\\Synthetic_Financial_datasets_log.csv')"
   ]
  },
  {
   "cell_type": "code",
   "execution_count": 6,
   "id": "068cbc7f",
   "metadata": {},
   "outputs": [],
   "source": [
    "df = data"
   ]
  },
  {
   "cell_type": "code",
   "execution_count": 7,
   "id": "02429e5c",
   "metadata": {},
   "outputs": [
    {
     "data": {
      "text/html": [
       "<div>\n",
       "<style scoped>\n",
       "    .dataframe tbody tr th:only-of-type {\n",
       "        vertical-align: middle;\n",
       "    }\n",
       "\n",
       "    .dataframe tbody tr th {\n",
       "        vertical-align: top;\n",
       "    }\n",
       "\n",
       "    .dataframe thead th {\n",
       "        text-align: right;\n",
       "    }\n",
       "</style>\n",
       "<table border=\"1\" class=\"dataframe\">\n",
       "  <thead>\n",
       "    <tr style=\"text-align: right;\">\n",
       "      <th></th>\n",
       "      <th>step</th>\n",
       "      <th>type</th>\n",
       "      <th>amount</th>\n",
       "      <th>nameOrig</th>\n",
       "      <th>oldbalanceOrg</th>\n",
       "      <th>newbalanceOrig</th>\n",
       "      <th>nameDest</th>\n",
       "      <th>oldbalanceDest</th>\n",
       "      <th>newbalanceDest</th>\n",
       "      <th>isFraud</th>\n",
       "      <th>isFlaggedFraud</th>\n",
       "    </tr>\n",
       "  </thead>\n",
       "  <tbody>\n",
       "    <tr>\n",
       "      <th>0</th>\n",
       "      <td>1</td>\n",
       "      <td>PAYMENT</td>\n",
       "      <td>9839.64</td>\n",
       "      <td>C1231006815</td>\n",
       "      <td>170136.0</td>\n",
       "      <td>160296.36</td>\n",
       "      <td>M1979787155</td>\n",
       "      <td>0.0</td>\n",
       "      <td>0.0</td>\n",
       "      <td>0</td>\n",
       "      <td>0</td>\n",
       "    </tr>\n",
       "    <tr>\n",
       "      <th>1</th>\n",
       "      <td>1</td>\n",
       "      <td>PAYMENT</td>\n",
       "      <td>1864.28</td>\n",
       "      <td>C1666544295</td>\n",
       "      <td>21249.0</td>\n",
       "      <td>19384.72</td>\n",
       "      <td>M2044282225</td>\n",
       "      <td>0.0</td>\n",
       "      <td>0.0</td>\n",
       "      <td>0</td>\n",
       "      <td>0</td>\n",
       "    </tr>\n",
       "    <tr>\n",
       "      <th>2</th>\n",
       "      <td>1</td>\n",
       "      <td>TRANSFER</td>\n",
       "      <td>181.00</td>\n",
       "      <td>C1305486145</td>\n",
       "      <td>181.0</td>\n",
       "      <td>0.00</td>\n",
       "      <td>C553264065</td>\n",
       "      <td>0.0</td>\n",
       "      <td>0.0</td>\n",
       "      <td>1</td>\n",
       "      <td>0</td>\n",
       "    </tr>\n",
       "    <tr>\n",
       "      <th>3</th>\n",
       "      <td>1</td>\n",
       "      <td>CASH_OUT</td>\n",
       "      <td>181.00</td>\n",
       "      <td>C840083671</td>\n",
       "      <td>181.0</td>\n",
       "      <td>0.00</td>\n",
       "      <td>C38997010</td>\n",
       "      <td>21182.0</td>\n",
       "      <td>0.0</td>\n",
       "      <td>1</td>\n",
       "      <td>0</td>\n",
       "    </tr>\n",
       "    <tr>\n",
       "      <th>4</th>\n",
       "      <td>1</td>\n",
       "      <td>PAYMENT</td>\n",
       "      <td>11668.14</td>\n",
       "      <td>C2048537720</td>\n",
       "      <td>41554.0</td>\n",
       "      <td>29885.86</td>\n",
       "      <td>M1230701703</td>\n",
       "      <td>0.0</td>\n",
       "      <td>0.0</td>\n",
       "      <td>0</td>\n",
       "      <td>0</td>\n",
       "    </tr>\n",
       "  </tbody>\n",
       "</table>\n",
       "</div>"
      ],
      "text/plain": [
       "   step      type    amount     nameOrig  oldbalanceOrg  newbalanceOrig  \\\n",
       "0     1   PAYMENT   9839.64  C1231006815       170136.0       160296.36   \n",
       "1     1   PAYMENT   1864.28  C1666544295        21249.0        19384.72   \n",
       "2     1  TRANSFER    181.00  C1305486145          181.0            0.00   \n",
       "3     1  CASH_OUT    181.00   C840083671          181.0            0.00   \n",
       "4     1   PAYMENT  11668.14  C2048537720        41554.0        29885.86   \n",
       "\n",
       "      nameDest  oldbalanceDest  newbalanceDest  isFraud  isFlaggedFraud  \n",
       "0  M1979787155             0.0             0.0        0               0  \n",
       "1  M2044282225             0.0             0.0        0               0  \n",
       "2   C553264065             0.0             0.0        1               0  \n",
       "3    C38997010         21182.0             0.0        1               0  \n",
       "4  M1230701703             0.0             0.0        0               0  "
      ]
     },
     "execution_count": 7,
     "metadata": {},
     "output_type": "execute_result"
    }
   ],
   "source": [
    "df.head()"
   ]
  },
  {
   "cell_type": "code",
   "execution_count": 8,
   "id": "76734e99",
   "metadata": {
    "scrolled": true
   },
   "outputs": [
    {
     "name": "stdout",
     "output_type": "stream",
     "text": [
      "step              0\n",
      "type              0\n",
      "amount            0\n",
      "nameOrig          0\n",
      "oldbalanceOrg     0\n",
      "newbalanceOrig    0\n",
      "nameDest          0\n",
      "oldbalanceDest    0\n",
      "newbalanceDest    0\n",
      "isFraud           0\n",
      "isFlaggedFraud    0\n",
      "dtype: int64\n"
     ]
    }
   ],
   "source": [
    "# Check for missing values\n",
    "print(df.isnull().sum())\n",
    "\n",
    "# Drop or fill missing values if necessary\n",
    "df = df.dropna() "
   ]
  },
  {
   "cell_type": "code",
   "execution_count": 9,
   "id": "e2b7bf7c",
   "metadata": {},
   "outputs": [],
   "source": [
    "# Identify columns with few unique values for one-hot encoding\n",
    "columns_to_encode = ['type']  # Replace 'type' with the actual column name(s) you want to encode\n",
    "df = pd.get_dummies(df, columns=columns_to_encode, drop_first=True)"
   ]
  },
  {
   "cell_type": "code",
   "execution_count": 10,
   "id": "8d8db071",
   "metadata": {},
   "outputs": [
    {
     "name": "stderr",
     "output_type": "stream",
     "text": [
      "C:\\Users\\91638\\anaconda3\\lib\\site-packages\\scipy\\__init__.py:138: UserWarning: A NumPy version >=1.16.5 and <1.23.0 is required for this version of SciPy (detected version 1.24.3)\n",
      "  warnings.warn(f\"A NumPy version >={np_minversion} and <{np_maxversion} is required for this version of \"\n"
     ]
    }
   ],
   "source": [
    "from sklearn.preprocessing import LabelEncoder\n",
    "\n",
    "# Apply label encoding to high-cardinality columns\n",
    "high_cardinality_columns = ['nameOrig', 'nameDest']  # Replace with actual column names\n",
    "label_encoder = LabelEncoder()\n",
    "for col in high_cardinality_columns:\n",
    "    df[col] = label_encoder.fit_transform(df[col])"
   ]
  },
  {
   "cell_type": "code",
   "execution_count": 11,
   "id": "0be890a6",
   "metadata": {},
   "outputs": [],
   "source": [
    "df = df.drop(['nameOrig', 'nameDest'], axis=1)"
   ]
  },
  {
   "cell_type": "code",
   "execution_count": 12,
   "id": "8316cd0c",
   "metadata": {},
   "outputs": [],
   "source": [
    "# Convert numerical columns to more memory-efficient data types\n",
    "for col in df.select_dtypes(include=['float64']).columns:\n",
    "    df[col] = df[col].astype('float32')\n",
    "\n",
    "for col in df.select_dtypes(include=['int64']).columns:\n",
    "    df[col] = df[col].astype('int32')"
   ]
  },
  {
   "cell_type": "code",
   "execution_count": 13,
   "id": "c3b3a581",
   "metadata": {},
   "outputs": [],
   "source": [
    "from sklearn.model_selection import train_test_split\n",
    "\n",
    "# Define features (X) and target (y)\n",
    "X = df.drop(columns=['isFraud'])  # Replace 'is_fraud' with the actual target column\n",
    "y = df['isFraud']\n",
    "\n",
    "# Split data into training and testing sets (80-20 split)\n",
    "X_train, X_test, y_train, y_test = train_test_split(X, y, test_size=0.2, random_state=42)"
   ]
  },
  {
   "cell_type": "code",
   "execution_count": 14,
   "id": "1f2a1e12",
   "metadata": {},
   "outputs": [],
   "source": [
    "from sklearn.preprocessing import StandardScaler\n",
    "\n",
    "scaler = StandardScaler()\n",
    "X_train_scaled = scaler.fit_transform(X_train)\n",
    "X_test_scaled = scaler.transform(X_test)"
   ]
  },
  {
   "cell_type": "code",
   "execution_count": 15,
   "id": "afffdd15",
   "metadata": {},
   "outputs": [
    {
     "name": "stdout",
     "output_type": "stream",
     "text": [
      "Epoch 1/50\n",
      "79533/79533 [==============================] - 124s 2ms/step - loss: 0.7368 - val_loss: 0.7325\n",
      "Epoch 2/50\n",
      "79533/79533 [==============================] - 137s 2ms/step - loss: 0.7322 - val_loss: 0.7315\n",
      "Epoch 3/50\n",
      "79533/79533 [==============================] - 138s 2ms/step - loss: 0.7316 - val_loss: 0.7313\n",
      "Epoch 4/50\n",
      "79533/79533 [==============================] - 145s 2ms/step - loss: 0.7315 - val_loss: 0.7313\n",
      "Epoch 5/50\n",
      "79533/79533 [==============================] - 141s 2ms/step - loss: 0.7315 - val_loss: 0.7312\n",
      "Epoch 6/50\n",
      "79533/79533 [==============================] - 137s 2ms/step - loss: 0.7315 - val_loss: 0.7312\n",
      "Epoch 7/50\n",
      "79533/79533 [==============================] - 136s 2ms/step - loss: 0.7314 - val_loss: 0.7312\n",
      "Epoch 8/50\n",
      "79533/79533 [==============================] - 133s 2ms/step - loss: 0.7314 - val_loss: 0.7312\n",
      "Epoch 9/50\n",
      "79533/79533 [==============================] - 138s 2ms/step - loss: 0.7314 - val_loss: 0.7312\n",
      "Epoch 10/50\n",
      "79533/79533 [==============================] - 157s 2ms/step - loss: 0.7314 - val_loss: 0.7312\n",
      "Epoch 11/50\n",
      "79533/79533 [==============================] - 148s 2ms/step - loss: 0.7314 - val_loss: 0.7312\n",
      "Epoch 12/50\n",
      "79533/79533 [==============================] - 232s 3ms/step - loss: 0.7314 - val_loss: 0.7312\n",
      "Epoch 13/50\n",
      "79533/79533 [==============================] - 133s 2ms/step - loss: 0.7314 - val_loss: 0.7312\n",
      "Epoch 14/50\n",
      "79533/79533 [==============================] - 143s 2ms/step - loss: 0.7314 - val_loss: 0.7312\n",
      "Epoch 15/50\n",
      "79533/79533 [==============================] - 148s 2ms/step - loss: 0.6868 - val_loss: 0.6758\n",
      "Epoch 16/50\n",
      "79533/79533 [==============================] - 148s 2ms/step - loss: 0.6761 - val_loss: 0.6760\n",
      "Epoch 17/50\n",
      "79533/79533 [==============================] - 155s 2ms/step - loss: 0.6761 - val_loss: 0.6758\n",
      "Epoch 18/50\n",
      "79533/79533 [==============================] - 153s 2ms/step - loss: 0.6761 - val_loss: 0.6758\n",
      "Epoch 19/50\n",
      "79533/79533 [==============================] - 149s 2ms/step - loss: 0.6761 - val_loss: 0.6758\n",
      "Epoch 20/50\n",
      "79533/79533 [==============================] - 147s 2ms/step - loss: 0.6761 - val_loss: 0.6759\n",
      "Epoch 21/50\n",
      "79533/79533 [==============================] - 153s 2ms/step - loss: 0.6761 - val_loss: 0.6758\n",
      "Epoch 22/50\n",
      "79533/79533 [==============================] - 156s 2ms/step - loss: 0.6761 - val_loss: 0.6758\n",
      "Epoch 23/50\n",
      "79533/79533 [==============================] - 153s 2ms/step - loss: 0.6761 - val_loss: 0.6758\n",
      "Epoch 24/50\n",
      "79533/79533 [==============================] - 152s 2ms/step - loss: 0.6761 - val_loss: 0.6758\n",
      "Epoch 25/50\n",
      "79533/79533 [==============================] - 150s 2ms/step - loss: 0.6761 - val_loss: 0.6758\n",
      "Epoch 26/50\n",
      "79533/79533 [==============================] - 150s 2ms/step - loss: 0.6761 - val_loss: 0.6758\n",
      "Epoch 27/50\n",
      "79533/79533 [==============================] - 153s 2ms/step - loss: 0.6761 - val_loss: 0.6758\n",
      "Epoch 28/50\n",
      "79533/79533 [==============================] - 154s 2ms/step - loss: 0.6761 - val_loss: 0.6762\n",
      "Epoch 29/50\n",
      "79533/79533 [==============================] - 153s 2ms/step - loss: 0.6761 - val_loss: 0.6758\n",
      "Epoch 30/50\n",
      "79533/79533 [==============================] - 153s 2ms/step - loss: 0.6761 - val_loss: 0.6758\n",
      "Epoch 31/50\n",
      "79533/79533 [==============================] - 152s 2ms/step - loss: 0.6761 - val_loss: 0.6758\n",
      "Epoch 32/50\n",
      "79533/79533 [==============================] - 152s 2ms/step - loss: 0.6761 - val_loss: 0.6758\n",
      "Epoch 33/50\n",
      "79533/79533 [==============================] - 152s 2ms/step - loss: 0.6761 - val_loss: 0.6758\n",
      "Epoch 34/50\n",
      "79533/79533 [==============================] - 151s 2ms/step - loss: 0.6761 - val_loss: 0.6758\n",
      "Epoch 35/50\n",
      "79533/79533 [==============================] - 154s 2ms/step - loss: 0.6761 - val_loss: 0.6758\n",
      "Epoch 36/50\n",
      "79533/79533 [==============================] - 152s 2ms/step - loss: 0.6761 - val_loss: 0.6760\n",
      "Epoch 37/50\n",
      "79533/79533 [==============================] - 152s 2ms/step - loss: 0.6761 - val_loss: 0.6758\n",
      "Epoch 38/50\n",
      "79533/79533 [==============================] - 153s 2ms/step - loss: 0.6761 - val_loss: 0.6758\n",
      "Epoch 39/50\n",
      "79533/79533 [==============================] - 154s 2ms/step - loss: 0.6761 - val_loss: 0.6759\n",
      "Epoch 40/50\n",
      "79533/79533 [==============================] - 153s 2ms/step - loss: 0.6761 - val_loss: 0.6758\n",
      "Epoch 41/50\n",
      "79533/79533 [==============================] - 153s 2ms/step - loss: 0.6761 - val_loss: 0.6758\n",
      "Epoch 42/50\n",
      "79533/79533 [==============================] - 154s 2ms/step - loss: 0.6761 - val_loss: 0.6758\n",
      "Epoch 43/50\n",
      "79533/79533 [==============================] - 153s 2ms/step - loss: 0.6761 - val_loss: 0.6758\n",
      "Epoch 44/50\n",
      "79533/79533 [==============================] - 153s 2ms/step - loss: 0.6761 - val_loss: 0.6758\n",
      "Epoch 45/50\n",
      "79533/79533 [==============================] - 154s 2ms/step - loss: 0.6761 - val_loss: 0.6758\n",
      "Epoch 46/50\n",
      "79533/79533 [==============================] - 153s 2ms/step - loss: 0.6761 - val_loss: 0.6758\n",
      "Epoch 47/50\n",
      "79533/79533 [==============================] - 151s 2ms/step - loss: 0.6761 - val_loss: 0.6758\n",
      "Epoch 48/50\n",
      "79533/79533 [==============================] - 153s 2ms/step - loss: 0.6761 - val_loss: 0.6758\n",
      "Epoch 49/50\n",
      "79533/79533 [==============================] - 153s 2ms/step - loss: 0.6759 - val_loss: 0.6756\n",
      "Epoch 50/50\n",
      "79533/79533 [==============================] - 153s 2ms/step - loss: 0.6758 - val_loss: 0.6755\n"
     ]
    }
   ],
   "source": [
    "import tensorflow as tf\n",
    "from tensorflow.keras.models import Model\n",
    "from tensorflow.keras.layers import Input, Dense\n",
    "\n",
    "# Define the autoencoder architecture\n",
    "input_dim = X_train_scaled.shape[1]\n",
    "input_layer = Input(shape=(input_dim,))\n",
    "encoder = Dense(16, activation=\"relu\")(input_layer)\n",
    "encoder = Dense(8, activation=\"relu\")(encoder)\n",
    "encoder = Dense(4, activation=\"relu\")(encoder)\n",
    "decoder = Dense(8, activation=\"relu\")(encoder)\n",
    "decoder = Dense(16, activation=\"relu\")(decoder)\n",
    "decoder = Dense(input_dim, activation=\"sigmoid\")(decoder)\n",
    "\n",
    "autoencoder = Model(inputs=input_layer, outputs=decoder)\n",
    "autoencoder.compile(optimizer='adam', loss='mse')\n",
    "\n",
    "# Train the autoencoder\n",
    "history = autoencoder.fit(X_train_scaled, X_train_scaled, \n",
    "                          epochs=50, \n",
    "                          batch_size=64, \n",
    "                          validation_data=(X_test_scaled, X_test_scaled),\n",
    "                          verbose=1)"
   ]
  },
  {
   "cell_type": "code",
   "execution_count": 16,
   "id": "a3cfcc56",
   "metadata": {},
   "outputs": [
    {
     "name": "stdout",
     "output_type": "stream",
     "text": [
      "159066/159066 [==============================] - 201s 1ms/step\n",
      "39767/39767 [==============================] - 52s 1ms/step\n"
     ]
    }
   ],
   "source": [
    "import numpy as np\n",
    "\n",
    "# Get reconstruction loss for training data\n",
    "reconstructions = autoencoder.predict(X_train_scaled)\n",
    "train_loss = np.mean(np.power(X_train_scaled - reconstructions, 2), axis=1)\n",
    "\n",
    "# Set a threshold based on training loss\n",
    "threshold = np.percentile(train_loss, 95)\n",
    "\n",
    "# Apply the threshold on test data\n",
    "test_reconstructions = autoencoder.predict(X_test_scaled)\n",
    "test_loss = np.mean(np.power(X_test_scaled - test_reconstructions, 2), axis=1)\n",
    "y_pred = [1 if loss > threshold else 0 for loss in test_loss]  # 1 for fraud, 0 for normal"
   ]
  },
  {
   "cell_type": "code",
   "execution_count": 17,
   "id": "70187356",
   "metadata": {},
   "outputs": [
    {
     "name": "stdout",
     "output_type": "stream",
     "text": [
      "              precision    recall  f1-score   support\n",
      "\n",
      "           0       1.00      0.95      0.97   1270904\n",
      "           1       0.01      0.26      0.01      1620\n",
      "\n",
      "    accuracy                           0.95   1272524\n",
      "   macro avg       0.50      0.60      0.49   1272524\n",
      "weighted avg       1.00      0.95      0.97   1272524\n",
      "\n",
      "ROC-AUC Score: 0.6041237624343297\n",
      "Precision-Recall AUC: 0.13276667057202088\n"
     ]
    }
   ],
   "source": [
    "from sklearn.metrics import classification_report, roc_auc_score, precision_recall_curve, auc\n",
    "\n",
    "# Calculate ROC-AUC\n",
    "roc_score = roc_auc_score(y_test, y_pred)\n",
    "\n",
    "# Calculate Precision, Recall, F1-Score\n",
    "print(classification_report(y_test, y_pred))\n",
    "\n",
    "# Precision-Recall curve\n",
    "precision, recall, _ = precision_recall_curve(y_test, y_pred)\n",
    "pr_auc = auc(recall, precision)\n",
    "\n",
    "print(f\"ROC-AUC Score: {roc_score}\")\n",
    "print(f\"Precision-Recall AUC: {pr_auc}\")"
   ]
  },
  {
   "cell_type": "code",
   "execution_count": 18,
   "id": "01180807",
   "metadata": {},
   "outputs": [],
   "source": [
    "# Assuming 'df' is the DataFrame that contains your dataset and 'is_fraud' is the target column.\n",
    "X = df.drop(columns=['isFraud'])  # Replace 'is_fraud' with the actual target column"
   ]
  },
  {
   "cell_type": "code",
   "execution_count": 19,
   "id": "69d8a7e4",
   "metadata": {},
   "outputs": [],
   "source": [
    "import numpy as np\n",
    "import pandas as pd\n",
    "\n",
    "# Example of a new transaction with the same feature columns as X\n",
    "new_transaction = {\n",
    "    'feature_1': 0.2,  # Replace 'feature_1' with actual feature names from the dataset\n",
    "    'feature_2': 1500, \n",
    "    'feature_3': 0.5,  \n",
    "    # Add values for each feature column present in the original dataset.\n",
    "}\n",
    "\n",
    "# Convert the dictionary to a DataFrame\n",
    "new_transaction_df = pd.DataFrame([new_transaction])\n",
    "\n",
    "# Align columns with the training set (in case some features were one-hot encoded or missing)\n",
    "new_transaction_df = new_transaction_df.reindex(columns=X.columns, fill_value=0)"
   ]
  },
  {
   "cell_type": "code",
   "execution_count": 20,
   "id": "e852218b",
   "metadata": {},
   "outputs": [],
   "source": [
    "# Scale the new transaction data\n",
    "new_transaction_scaled = scaler.transform(new_transaction_df)"
   ]
  },
  {
   "cell_type": "code",
   "execution_count": 21,
   "id": "1ef5ead5",
   "metadata": {},
   "outputs": [
    {
     "name": "stdout",
     "output_type": "stream",
     "text": [
      "1/1 [==============================] - 0s 31ms/step\n",
      "Reconstruction loss: 0.41369692117507834\n",
      "Predicted label: Normal\n"
     ]
    }
   ],
   "source": [
    "# Get reconstruction loss for the new transaction\n",
    "new_reconstruction = autoencoder.predict(new_transaction_scaled)\n",
    "new_loss = np.mean(np.power(new_transaction_scaled - new_reconstruction, 2), axis=1)\n",
    "\n",
    "# Apply the threshold to classify as fraud or not\n",
    "new_prediction = [1 if loss > threshold else 0 for loss in new_loss]  # 1 for fraud, 0 for normal\n",
    "\n",
    "# Output the prediction\n",
    "print(f\"Reconstruction loss: {new_loss[0]}\")\n",
    "print(f\"Predicted label: {'Fraudulent' if new_prediction[0] == 1 else 'Normal'}\")"
   ]
  },
  {
   "cell_type": "code",
   "execution_count": null,
   "id": "dbd93490",
   "metadata": {},
   "outputs": [],
   "source": []
  },
  {
   "cell_type": "code",
   "execution_count": null,
   "id": "0fe65a25",
   "metadata": {},
   "outputs": [],
   "source": [
    "        "
   ]
  }
 ],
 "metadata": {
  "kernelspec": {
   "display_name": "Python 3",
   "language": "python",
   "name": "python3"
  },
  "language_info": {
   "codemirror_mode": {
    "name": "ipython",
    "version": 3
   },
   "file_extension": ".py",
   "mimetype": "text/x-python",
   "name": "python",
   "nbconvert_exporter": "python",
   "pygments_lexer": "ipython3",
   "version": "3.8.8"
  }
 },
 "nbformat": 4,
 "nbformat_minor": 5
}
